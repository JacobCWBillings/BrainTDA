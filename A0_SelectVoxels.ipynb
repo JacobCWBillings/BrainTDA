{
 "cells": [
  {
   "cell_type": "code",
   "execution_count": null,
   "metadata": {
    "collapsed": true
   },
   "outputs": [],
   "source": [
    "# Import packages and set parameters\n",
    "\n",
    "import numpy as np\n",
    "import matplotlib.pyplot as plt\n",
    "\n",
    "from multiprocessing import Pool, cpu_count\n",
    "\n",
    "from tqdm import tqdm\n",
    "\n",
    "import datetime as dt\n",
    "\n",
    "import sklearn\n",
    "from sklearn import ensemble, cluster\n",
    "\n",
    "from .utils import *\n",
    "\n",
    "import scipy.cluster.hierarchy as hc\n",
    "from scipy.spatial.distance import pdist, squareform\n",
    "\n",
    "TR = 0.720"
   ]
  },
  {
   "cell_type": "code",
   "execution_count": null,
   "metadata": {
    "collapsed": true
   },
   "outputs": [],
   "source": [
    "from os.path import join as OSjoin\n",
    "import nibabel as nib\n",
    "\n",
    "def importHCP(dpath, dname, flip=True):\n",
    "    fname = OSjoin(dpath,dname)\n",
    "    img = nib.load(fname)\n",
    "    print('For filename: ' + str(fname) + '\\n' + 'img shape is: ' + str(img.shape))\n",
    "    D = img.get_fdata() #projection\n",
    "    if flip:\n",
    "        D = D.T+0.0\n",
    "    print('Output shape is ' + str(D.shape))    \n",
    "    return D"
   ]
  },
  {
   "cell_type": "code",
   "execution_count": null,
   "metadata": {
    "collapsed": true
   },
   "outputs": [],
   "source": [
    "# Import data\n",
    "\n",
    "dpath = '/data/jbillings/'\n",
    "dname = 'HCP_S1200_812_rfMRI_MSMAll_groupPCA_d4500ROW_zcorr_recon2.dconn.nii'\n",
    "\n",
    "DC = importHCP(dpath,dname)\n",
    "\n",
    "dpath = '/data/jbillings/'\n",
    "dname = 'HCP_S1200_812_rfMRI_MSMAll_groupPCA_d4500_Eigenmaps_recon2.dtseries.nii'\n",
    "\n",
    "PC = importHCP(dpath,dname)\n",
    "\n",
    "dpath = '/data/jbillings/glasser'\n",
    "dname = 'HCP_S1200_812_rfMRI_MSMAll_groupPCA_d4500_Eigenmaps_recon2.dtseries.nii'\n",
    "\n",
    "GL = importHCP(dpath,dname)"
   ]
  },
  {
   "cell_type": "code",
   "execution_count": null,
   "metadata": {
    "collapsed": true
   },
   "outputs": [],
   "source": [
    "# Cluster DC\n",
    "zdc = hc.average(squareform(DC,force='tovector'))\n",
    "nclusts = 30000\n",
    "clusts = hc.fcluster(zdc,nclust,criterion='maxclust')"
   ]
  },
  {
   "cell_type": "code",
   "execution_count": null,
   "metadata": {
    "collapsed": true
   },
   "outputs": [],
   "source": [
    "# Rebuild DC as dc from DC-clusters\n",
    "unc = np.unique(clusts)\n",
    "nmc = unc.size\n",
    "dc = np.zeros([nmc,nmc])\n",
    "meandc = np.zeros([nmc,1])\n",
    "pcacorr = np.zeros([nmc,1])\n",
    "gljac = np.zeros([nmc,1])\n",
    "\n",
    "inds = []\n",
    "for i in range(0,nmc,1):    \n",
    "    inds.append(clusts==unc[i])\n",
    "    divisor = inds[i].size**2-inds[i].size\n",
    "    meandc[i] = sum(DC[inds[i],inds[i]])/divisor\n",
    "    pcacorr[i] = np.mean(pdist(PC[inds[i],:],metric='correlation'))\n",
    "    gljac[i] = np.unique(GL[inds[i]]).size\n",
    "\n",
    "for i in range(0,nmc-1,1):    \n",
    "    for j in range(i+1,nmc,1):\n",
    "        temp = 0\n",
    "        for ii in inds[i]:\n",
    "            for jj in inds[j]:\n",
    "                temp += DC[ii,jj]\n",
    "        dc[i,j] = temp/(inds[i].size*inds[j].size)\n",
    "\n",
    "dc = dc + dc.T"
   ]
  },
  {
   "cell_type": "code",
   "execution_count": null,
   "metadata": {
    "collapsed": true
   },
   "outputs": [],
   "source": []
  }
 ],
 "metadata": {
  "kernelspec": {
   "display_name": "Python 3",
   "language": "python",
   "name": "python3"
  },
  "language_info": {
   "codemirror_mode": {
    "name": "ipython",
    "version": 3
   },
   "file_extension": ".py",
   "mimetype": "text/x-python",
   "name": "python",
   "nbconvert_exporter": "python",
   "pygments_lexer": "ipython3",
   "version": "3.6.3"
  }
 },
 "nbformat": 4,
 "nbformat_minor": 2
}
